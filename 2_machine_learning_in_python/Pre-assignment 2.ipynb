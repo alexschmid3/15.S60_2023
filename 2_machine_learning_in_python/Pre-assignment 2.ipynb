{
 "cells": [
  {
   "cell_type": "markdown",
   "id": "236a1bdb",
   "metadata": {},
   "source": [
    "### Install Packages"
   ]
  },
  {
   "cell_type": "code",
   "execution_count": null,
   "id": "03decfd7",
   "metadata": {},
   "outputs": [],
   "source": [
    "!pip3 install -r requirements.txt"
   ]
  },
  {
   "cell_type": "markdown",
   "id": "8791065f",
   "metadata": {},
   "source": [
    "### Load Packages"
   ]
  },
  {
   "cell_type": "code",
   "execution_count": null,
   "id": "1c48a23b",
   "metadata": {},
   "outputs": [],
   "source": [
    "import matplotlib, numpy, shap, missingno, seaborn, sklearn, xgboost, lightgbm, tpot\n",
    "import pandas as pd\n",
    "from sklearn.model_selection import train_test_split\n",
    "from sklearn.linear_model import LinearRegression\n",
    "from sklearn.metrics import r2_score"
   ]
  },
  {
   "cell_type": "markdown",
   "id": "5fd362e8",
   "metadata": {},
   "source": [
    "### Load Data"
   ]
  },
  {
   "cell_type": "code",
   "execution_count": null,
   "id": "2f75c74c",
   "metadata": {},
   "outputs": [],
   "source": [
    "## Load the data\n",
    "listings = pd.read_csv('./data/listings_with_amenities.csv')\n",
    "listings['price'] = pd.to_numeric(listings['price'].apply(lambda x: x[1:]), errors='coerce')\n",
    "listings = listings[['accommodates', 'price']].dropna()\n",
    "print(listings)"
   ]
  },
  {
   "cell_type": "code",
   "execution_count": null,
   "id": "4c0fd1e3",
   "metadata": {},
   "outputs": [],
   "source": [
    "X = listings.drop('price', axis=1)\n",
    "y = listings['price']\n",
    "X_train, X_test, y_train, y_test = train_test_split(X, y, test_size=0.2, random_state=42)\n",
    "\n",
    "print(X_train)"
   ]
  },
  {
   "cell_type": "markdown",
   "id": "190ea884",
   "metadata": {},
   "source": [
    "### Train Simple Model"
   ]
  },
  {
   "cell_type": "code",
   "execution_count": null,
   "id": "f1464857",
   "metadata": {},
   "outputs": [],
   "source": [
    "model = LinearRegression()\n",
    "model.fit(X_train, y_train)"
   ]
  },
  {
   "cell_type": "code",
   "execution_count": null,
   "id": "01013e6d",
   "metadata": {},
   "outputs": [],
   "source": [
    "y_pred = model.predict(X_test)\n",
    "r2 = r2_score(y_test, y_pred)\n",
    "print(r2)"
   ]
  }
 ],
 "metadata": {
  "hide_input": false,
  "kernelspec": {
   "display_name": "Python 3 (ipykernel)",
   "language": "python",
   "name": "python3"
  },
  "language_info": {
   "codemirror_mode": {
    "name": "ipython",
    "version": 3
   },
   "file_extension": ".py",
   "mimetype": "text/x-python",
   "name": "python",
   "nbconvert_exporter": "python",
   "pygments_lexer": "ipython3",
   "version": "3.9.7"
  }
 },
 "nbformat": 4,
 "nbformat_minor": 5
}
