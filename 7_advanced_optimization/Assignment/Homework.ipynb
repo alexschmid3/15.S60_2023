{
 "cells": [
  {
   "cell_type": "markdown",
   "metadata": {},
   "source": [
    "# Homework"
   ]
  },
  {
   "cell_type": "markdown",
   "metadata": {},
   "source": [
    "We solve the image reconstruction problem, but this time using `JuMP`. We are given a noisy image, and we want to clean the image up. "
   ]
  },
  {
   "cell_type": "code",
   "execution_count": 2,
   "metadata": {},
   "outputs": [
    {
     "data": {
      "image/png": "[encoded data removed]",
      "text/plain": [
       "128×128 Array{Gray{N0f8},2} with eltype Gray{N0f8}:\n",
       " Gray{N0f8}(0.0)    Gray{N0f8}(0.0)    …  Gray{N0f8}(0.627)\n",
       " Gray{N0f8}(0.627)  Gray{N0f8}(0.624)     Gray{N0f8}(0.388)\n",
       " Gray{N0f8}(0.612)  Gray{N0f8}(0.612)     Gray{N0f8}(0.0)\n",
       " Gray{N0f8}(0.0)    Gray{N0f8}(0.0)       Gray{N0f8}(0.192)\n",
       " Gray{N0f8}(0.612)  Gray{N0f8}(0.0)       Gray{N0f8}(0.0)\n",
       " Gray{N0f8}(0.0)    Gray{N0f8}(0.0)    …  Gray{N0f8}(0.2)\n",
       " Gray{N0f8}(0.608)  Gray{N0f8}(0.0)       Gray{N0f8}(0.0)\n",
       " Gray{N0f8}(0.0)    Gray{N0f8}(0.0)       Gray{N0f8}(0.216)\n",
       " Gray{N0f8}(0.62)   Gray{N0f8}(0.62)      Gray{N0f8}(0.208)\n",
       " Gray{N0f8}(0.0)    Gray{N0f8}(0.0)       Gray{N0f8}(0.188)\n",
       " Gray{N0f8}(0.635)  Gray{N0f8}(0.0)    …  Gray{N0f8}(0.0)\n",
       " Gray{N0f8}(0.631)  Gray{N0f8}(0.0)       Gray{N0f8}(0.0)\n",
       " Gray{N0f8}(0.0)    Gray{N0f8}(0.627)     Gray{N0f8}(0.184)\n",
       " ⋮                                     ⋱  \n",
       " Gray{N0f8}(0.0)    Gray{N0f8}(0.129)     Gray{N0f8}(0.0)\n",
       " Gray{N0f8}(0.149)  Gray{N0f8}(0.129)     Gray{N0f8}(0.0)\n",
       " Gray{N0f8}(0.216)  Gray{N0f8}(0.0)       Gray{N0f8}(0.208)\n",
       " Gray{N0f8}(0.345)  Gray{N0f8}(0.341)     Gray{N0f8}(0.231)\n",
       " Gray{N0f8}(0.0)    Gray{N0f8}(0.0)    …  Gray{N0f8}(0.259)\n",
       " Gray{N0f8}(0.298)  Gray{N0f8}(0.416)     Gray{N0f8}(0.259)\n",
       " Gray{N0f8}(0.0)    Gray{N0f8}(0.369)     Gray{N0f8}(0.235)\n",
       " Gray{N0f8}(0.0)    Gray{N0f8}(0.0)       Gray{N0f8}(0.208)\n",
       " Gray{N0f8}(0.22)   Gray{N0f8}(0.0)       Gray{N0f8}(0.2)\n",
       " Gray{N0f8}(0.0)    Gray{N0f8}(0.22)   …  Gray{N0f8}(0.0)\n",
       " Gray{N0f8}(0.196)  Gray{N0f8}(0.208)     Gray{N0f8}(0.345)\n",
       " Gray{N0f8}(0.192)  Gray{N0f8}(0.0)       Gray{N0f8}(0.0)"
      ]
     },
     "execution_count": 2,
     "metadata": {},
     "output_type": "execute_result"
    }
   ],
   "source": [
    "using Images\n",
    "lenna = load(\"lena128missing.png\") \n",
    "# put the image lena128missing.png in the same folder, where your julia file or ipynb file resides"
   ]
  },
  {
   "cell_type": "code",
   "execution_count": 3,
   "metadata": {},
   "outputs": [],
   "source": [
    "# convert to real matrices\n",
    "Y = Float64.(lenna);"
   ]
  },
  {
   "cell_type": "code",
   "execution_count": 4,
   "metadata": {},
   "outputs": [],
   "source": [
    "observed_entries_Y = findall(x->x!=0.0, Y);"
   ]
  },
  {
   "cell_type": "markdown",
   "metadata": {},
   "source": [
    "We want to solve:\n",
    "\n",
    "\\begin{array}{ll}\n",
    "\\underset{X}{\\mbox{minimize}} & \\| X \\|_\\star \\\\\n",
    "\\mbox{subject to} & X_{i,j}=Y_{i,j},\\quad(i,j)\\in\\text{observed pixels of }Y \\quad \\textsf{(IMGOPT)}\n",
    "\\end{array}\n",
    "\n",
    "The problem above can be formulated as an SDP. This time we will use `JuMP`."
   ]
  },
  {
   "cell_type": "markdown",
   "metadata": {},
   "source": [
    "To that goal, use the result from [Lemma 1 Fazel et. al. (2001)]  ([paper here](https://web.stanford.edu/~boyd/papers/pdf/rank_min_heur_sys_approx.pdf))\n",
    "\n",
    "$$\n",
    "\\left(\\|X\\|_{\\star}\\leq t\\right)\\Leftrightarrow\\begin{bmatrix}U & X\\\\\n",
    "X^{\\top} & V\n",
    "\\end{bmatrix}\\succeq0,\\mathbf{tr}(U)+\\mathbf{tr}(V)\\leq2t.\n",
    "$$\n",
    "\n",
    "By introducing a new variable, write the optimization problem (IMGOPT) in a way so that you can apply the result above directly.\n",
    "\n",
    "Next, use the `JuMP` syntax to encode positive-semidefiniteness of a matrix $X\\succeq 0$ as:\n",
    "\n",
    "$X \\succeq 0 \\equiv$ `Symmetric(X) in PSDCone()` (put this in a Constraint)"
   ]
  },
  {
   "cell_type": "markdown",
   "metadata": {},
   "source": [
    "#### But, I never solved an SDP in JuMP before 😟\n",
    "Consider the following SDP:\n",
    "\n",
    "\\begin{array}{ll} \\text{minimize} &  \\text{tr}(CX)\\\\\n",
    "\\text{subject to} &  \\text{tr}(A X) = b \\\\\n",
    "                  &  X \\succeq 0,\n",
    "\\end{array}\n",
    "\n",
    "where\n",
    "\n",
    "$A = \\begin{bmatrix} 1 & 5 \\\\ 5 & 2\\end{bmatrix},$\n",
    "$C = \\begin{bmatrix} 1 & 2 \\\\ 2 & 2\\end{bmatrix},$\n",
    "$b = 4.$\n",
    "\n",
    "You can solve this in `JuMP` with the following code:\n",
    "\n",
    "```\n",
    "using JuMP, Mosek, MosekTools, LinearAlgebra\n",
    "# if M1 chip, then\n",
    "# using COSMO, JuMP, LinearAlgebra\n",
    "\n",
    "C =  [1. 2; 2 2]\n",
    "A = [1. 5; 5 2]\n",
    "b = 4.0;\n",
    "\n",
    "m = Model(with_optimizer(COSMO.Optimizer));\n",
    "@variable(m, X[1:2, 1:2], PSD)\n",
    "@objective(m, Min, tr(C * X));\n",
    "@constraint(m, tr(A * X) == b);\n",
    "JuMP.optimize!(m);\n",
    "\n",
    "status = JuMP.termination_status(m)\n",
    "X_sol = JuMP.value.(X)\n",
    "```"
   ]
  },
  {
   "cell_type": "markdown",
   "metadata": {},
   "source": [
    "### Now solve (IMGOPT) using `JuMP`\n",
    "\n",
    "* Provide the `JuMP` code\n",
    "* After solving the problem using `JuMP`, please provide the trace of the optimal solution. For example, if `X_sol` is the solution matrix, then what is `tr(X_sol)`?"
   ]
  },
  {
   "cell_type": "code",
   "execution_count": null,
   "metadata": {},
   "outputs": [],
   "source": []
  }
 ],
 "metadata": {
  "kernelspec": {
   "display_name": "Julia 1.6.5",
   "language": "julia",
   "name": "julia-1.6"
  },
  "language_info": {
   "file_extension": ".jl",
   "mimetype": "application/julia",
   "name": "julia",
   "version": "1.6.5"
  }
 },
 "nbformat": 4,
 "nbformat_minor": 4
}
