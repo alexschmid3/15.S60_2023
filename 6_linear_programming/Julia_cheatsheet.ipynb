{
 "cells": [
  {
   "cell_type": "code",
   "execution_count": 175,
   "id": "5942f060",
   "metadata": {},
   "outputs": [],
   "source": [
    "using LinearAlgebra\n",
    "using Statistics"
   ]
  },
  {
   "cell_type": "markdown",
   "id": "70b0873b",
   "metadata": {},
   "source": [
    "# Array\n",
    "Multi-dimensional Array is the basic object in Julia for efficient computation."
   ]
  },
  {
   "cell_type": "code",
   "execution_count": 42,
   "id": "52b069bf",
   "metadata": {},
   "outputs": [
    {
     "name": "stdout",
     "output_type": "stream",
     "text": [
      "type of arr: Vector{Int64}\n",
      "true\n",
      "type of Arr: Matrix{Int64}\n",
      "true\n"
     ]
    },
    {
     "data": {
      "text/plain": [
       "2×3 Matrix{Float64}:\n",
       " 1.0  2.0  3.0\n",
       " 4.0  5.0  6.0"
      ]
     },
     "metadata": {},
     "output_type": "display_data"
    }
   ],
   "source": [
    "\n",
    "# one-dimensional array\n",
    "arr = [1,2,3]; println(\"type of arr: \", typeof(arr))\n",
    "println(typeof(arr) == Array{Int64,1}) # True: Vector{Int64} is the alias for Array{Int64, 1}\n",
    "\n",
    "# multi-dimensional arrays\n",
    "Arr = [1 2 3; \n",
    "        4 5 6]\n",
    "println(\"type of Arr: \", typeof(Arr))\n",
    "println(typeof(Arr) == Array{Int64,2}) # True: Matrix{Int64} is the alias for Array{Int64, 2}\n",
    "\n",
    "# convert variable type\n",
    "Arr_float = convert(Array{Float64, 2}, Arr)\n",
    "display(Arr_float)\n"
   ]
  },
  {
   "cell_type": "code",
   "execution_count": 62,
   "id": "223e76fe",
   "metadata": {},
   "outputs": [
    {
     "name": "stdout",
     "output_type": "stream",
     "text": [
      "a = [1, 2, 3, 4, 5, 6, 7, 8, 9, 10]\n",
      "b = [2, 4, 6, 8, 10]\n",
      "c = [0.0, 0.0, 0.0, 0.0, 0.0, 0.0, 0.0, 0.0, 0.0, 0.0]\n",
      "d = [1.0, 1.0, 1.0, 1.0, 1.0, 1.0, 1.0, 1.0, 1.0, 1.0]\n",
      "e = [0.5446785829077441 0.6587403823265409; 0.023653708475446678 0.30726945245365767]\n",
      "f = [0.7131575955243723, 0.09023266428560896, -1.533982686506464]\n",
      "g = [3, 5, 7, 9, 11, 13]\n"
     ]
    }
   ],
   "source": [
    "# Other ways of initialization\n",
    "a = [i for i=1:10]; println(\"a = \", a)\n",
    "b = [i for i=1:10 if mod(i,2)==0]; println(\"b = \", b)\n",
    "c = zeros(10); println(\"c = \", c) # the default type is Float64\n",
    "d = ones(10); println(\"d = \", d)\n",
    "e = rand(2,2); println(\"e = \", e) # iid Uniform on [0,1]\n",
    "f = randn(3); println(\"f = \", f) # iid N(0,1)\n",
    "g = [i for i=3:2:13]; println(\"g = \", g)"
   ]
  },
  {
   "cell_type": "code",
   "execution_count": 354,
   "id": "72a462cb",
   "metadata": {},
   "outputs": [
    {
     "name": "stdout",
     "output_type": "stream",
     "text": [
      "a = [1, 2, 3]\n",
      "b = [4, 2, 5]\n",
      "c = [2 3; 5 6]\n",
      "d = [1 3; 4 6]\n",
      "e = [1, 2, 5]\n",
      "f = [1, 4, 2, 5, 3, 6]\n",
      "g = [3, 6]\n"
     ]
    }
   ],
   "source": [
    "# Index and slicing\n",
    "A = [1 2 3; \n",
    "    4 5 6]\n",
    "a = A[1,:]; println(\"a = \", a)\n",
    "b = A[2:4]; println(\"b = \", b)\n",
    "c = A[1:2, 2:3]; println(\"c = \", c)\n",
    "d = A[[1,2],[1,3]]; println(\"d = \", d)\n",
    "e = A[[1,3,4]]; println(\"e = \", e)\n",
    "f = A[:]; println(\"f = \", f) # elements are saved in the column-wise order\n",
    "g = [A[1,end], A[end]]; println(\"g = \", g)"
   ]
  },
  {
   "cell_type": "code",
   "execution_count": 311,
   "id": "de6225c1",
   "metadata": {},
   "outputs": [
    {
     "name": "stdout",
     "output_type": "stream",
     "text": [
      "a = [5, 7, 9]\n",
      "b = [4, 10, 18]\n",
      "c = 32\n",
      "d = [2 1; 5 10]\n",
      "e = [5 11; 11 21]\n",
      "f = [1 -2; 6 24]\n",
      "g = [1.0 -2.0; 1.5 0.6666666666666666]\n",
      "h = [1, 8, 27]\n",
      "i = [1 1; 2 6]\n",
      "j = [3, 7]\n",
      "k = [1 3; 2 4]\n",
      "l = [2 3; 4 5]\n"
     ]
    }
   ],
   "source": [
    "# Vector and matrix operations\n",
    "v1 = [1,2,3]; v2 = [4,5,6]; v = [1,1]\n",
    "M1 = [1 2; 3 4]; M2 = [1 -1; 2 6]\n",
    "a = v1+v2; println(\"a = \", a) # element-wise addition\n",
    "b = v1.*v2; println(\"b = \", b) # element-wise multiplication\n",
    "c = dot(v1, v2); println(\"c = \", c) # inner product\n",
    "d = M1+M2; println(\"d = \", d) # matrix addition\n",
    "e = M1*M2; println(\"e = \", e) # matrix multiplication\n",
    "f = M1.*M2; println(\"f = \", f) # element-wise multiplication\n",
    "g = M1./M2; println(\"g = \", g) # element-wise division\n",
    "h = v1.^3; println(\"h = \", h) # element-wise power\n",
    "i = abs.(M2); println(\"i = \", i) # element-wise absolute value\n",
    "j = M1*v; println(\"j = \", j) # matrix-vector multiplication\n",
    "k = M1'; println(\"k = \", k) # transpose\n",
    "l = M1 .+ 1; println(\"l = \", l) # add the same element to all entries"
   ]
  },
  {
   "cell_type": "code",
   "execution_count": 186,
   "id": "f19dedb9",
   "metadata": {},
   "outputs": [
    {
     "name": "stdout",
     "output_type": "stream",
     "text": [
      "a = [1, 2, 3, 4, 5, 6]\n",
      "b = [1 4; 2 5; 3 6]\n",
      "c = [1 2; 3 4; 1 -1; 2 6]\n",
      "d = [1 2 1 -1; 3 4 2 6]\n",
      "e = [1 2 1 -1; 3 4 2 6]\n",
      "f = [1 2; 3 4; 1 -1; 2 6]\n",
      "v1 = [1, 2, 3, 7, 8]\n"
     ]
    }
   ],
   "source": [
    "# Concatenation\n",
    "v1 = [1,2,3]; v2 = [4,5,6]\n",
    "M1 = [1 2; 3 4]; M2 = [1 -1; 2 6]\n",
    "a = cat(v1, v2, dims=(1,1)); println(\"a = \", a)\n",
    "b = cat(v1, v2, dims=(2,2)); println(\"b = \", b)\n",
    "c = cat(M1, M2, dims=(1,1)); println(\"c = \", c)\n",
    "d = cat(M1, M2, dims=(2,2)); println(\"d = \", d)\n",
    "e = hcat(M1, M2); println(\"e = \", e)\n",
    "f = vcat(M1, M2); println(\"f = \", f)\n",
    "append!(v1, [7,8]); println(\"v1 = \", v1) # concatenation via appending"
   ]
  },
  {
   "cell_type": "code",
   "execution_count": 13,
   "id": "2560f136",
   "metadata": {},
   "outputs": [
    {
     "name": "stdout",
     "output_type": "stream",
     "text": [
      "a = 6\n",
      "b = 3\n",
      "c = 14.0\n",
      "d = 6.0\n",
      "e = 3.0\n",
      "f = (2, 3)\n",
      "g = (3,)\n",
      "h = 68.0\n",
      "i = 3\n"
     ]
    }
   ],
   "source": [
    "# Aggregation functions\n",
    "using LinearAlgebra\n",
    "v = [1,2,3]\n",
    "M = [1 2 7; -1 3 -2]\n",
    "a = sum(v); println(\"a = \", a)\n",
    "b = maximum(v); println(\"b = \", b)\n",
    "c = norm(v)^2; println(\"c = \", c) # import LinearAlgebra first\n",
    "d = norm(v,1); println(\"d = \", d)\n",
    "e = norm(v,Inf); println(\"e = \", e)\n",
    "f = size(M); println(\"f = \", f) # size of the matrix; output is a tuple\n",
    "g = size(v); println(\"g = \", g) # size of the array; output is a tuple\n",
    "h = norm(M)^2; println(\"h = \", h) # vector L2 norm; not operator norm\n",
    "i = length(v); println(\"i = \", i)"
   ]
  },
  {
   "cell_type": "code",
   "execution_count": 176,
   "id": "c06f7f89",
   "metadata": {},
   "outputs": [
    {
     "name": "stdout",
     "output_type": "stream",
     "text": [
      "a = [-1.9999999999999996 0.9999999999999998; 1.4999999999999998 -0.4999999999999999]\n",
      "b = [-3.0, 1.9999999999999998]\n",
      "c = Eigen{Float64, Float64, Matrix{Float64}, Vector{Float64}}([-0.3722813232690143, 5.372281323269014], [-0.8245648401323938 -0.4159735579192842; 0.5657674649689923 -0.9093767091321241])\n",
      "d = SVD{Float64, Float64, Matrix{Float64}, Vector{Float64}}([-0.40455358483375703 -0.9145142956773042; -0.9145142956773045 0.4045535848337568], [5.464985704219043, 0.3659661906262574], [-0.5760484367663209 -0.8174155604703631; 0.8174155604703631 -0.5760484367663209])\n",
      "e = LinearAlgebra.QRCompactWY{Float64, Matrix{Float64}, Matrix{Float64}}([-3.1622776601683795 -4.427188724235731; 0.7207592200561264 -0.6324555320336751], [1.316227766016838 0.0; 3.144e-320 0.0])\n",
      "f = 5.464985704219043\n"
     ]
    }
   ],
   "source": [
    "# Linear algebra\n",
    "# Check the package LinearAlgebra.jl for more operations\n",
    "M = [1 2; 3 4]; v = [1,-1]\n",
    "a = inv(M); println(\"a = \", a) # matrix inverse\n",
    "b = M\\v; println(\"b = \", b) # solve linear system\n",
    "c = eigen(M); println(\"c = \", c) # eigen decomposition\n",
    "d = svd(M); println(\"d = \", d) # svd\n",
    "e = qr(M); println(\"e = \", e) # qr decomposition\n",
    "f = opnorm(M); println(\"f = \", f) # operator norm, i.e., max singular value"
   ]
  },
  {
   "cell_type": "code",
   "execution_count": 182,
   "id": "2d7a876b",
   "metadata": {},
   "outputs": [
    {
     "data": {
      "text/plain": [
       "Vector{Any}\u001b[90m (alias for \u001b[39m\u001b[90mArray{Any, 1}\u001b[39m\u001b[90m)\u001b[39m"
      ]
     },
     "execution_count": 182,
     "metadata": {},
     "output_type": "execute_result"
    }
   ],
   "source": [
    "# Array with arbitrary elements\n",
    "MIT = [\"Cambridge\", \"MA\", 02139]\n",
    "RA = \"😢\" # You can enter this cute emoji by typing \\:cry: and then pressing <Tab>\n",
    "stipend = 3000.0\n",
    "arr = [[\"The\"], RA, stipend, \"at\", MIT, \"is too low\"] # an array with different types of elements\n",
    "println(typeof(arr))"
   ]
  },
  {
   "cell_type": "code",
   "execution_count": 7,
   "id": "4f84ceca",
   "metadata": {},
   "outputs": [
    {
     "name": "stdout",
     "output_type": "stream",
     "text": [
      "a = [-1, 1, 3, 4, 6]\n",
      "v = [-1, 1, 3, 4, 6]\n",
      "b = [6, 4, 3, 1, -1]\n",
      "c = [-1, 1, 3, 4, 6]\n",
      "d = [6, 4, 3, 1, -1]\n"
     ]
    }
   ],
   "source": [
    "# Other functions\n",
    "v = [4,1,6,3 , -1]\n",
    "a = sort(v); println(\"a = \", a)\n",
    "sort!(v); println(\"v = \", v) # sort in place\n",
    "b = sort(v, rev=true); println(\"b = \", b)\n",
    "c = sort(v, by=abs); println(\"c = \", c)\n",
    "d = sort(v, by= x-> -x); println(\"d = \", d)\n"
   ]
  },
  {
   "cell_type": "markdown",
   "id": "32488153",
   "metadata": {},
   "source": [
    "# Functions & Control flow"
   ]
  },
  {
   "cell_type": "code",
   "execution_count": 8,
   "id": "83399464",
   "metadata": {},
   "outputs": [
    {
     "data": {
      "text/plain": [
       "mysum4 (generic function with 1 method)"
      ]
     },
     "execution_count": 8,
     "metadata": {},
     "output_type": "execute_result"
    }
   ],
   "source": [
    "# given an array a, compute the sum of all elements\n",
    "\n",
    "function mysum1(arr)\n",
    "    n = size(arr)[1]; s = 0\n",
    "    for i=1:n\n",
    "        s += arr[i]\n",
    "    end\n",
    "    return s\n",
    "end\n",
    "\n",
    "function mysum2(arr)\n",
    "    n = size(arr)[1]; s = 0\n",
    "    i = 1\n",
    "    while i<=n\n",
    "        s += arr[i]; i+=1\n",
    "    end\n",
    "    return s\n",
    "end\n",
    "\n",
    "function mysum3(arr)\n",
    "    s = 0\n",
    "    for v in arr\n",
    "        s += v\n",
    "    end\n",
    "    return s\n",
    "end\n",
    "\n",
    "function mysum4(arr)\n",
    "    n = size(arr)[1]; s = 0\n",
    "    i = 1\n",
    "    while true\n",
    "        if i>n\n",
    "            break\n",
    "        else\n",
    "            s += arr[i]; i+=1\n",
    "        end\n",
    "    end\n",
    "    return s\n",
    "end\n"
   ]
  },
  {
   "cell_type": "code",
   "execution_count": 10,
   "id": "ded28e1e",
   "metadata": {},
   "outputs": [
    {
     "name": "stdout",
     "output_type": "stream",
     "text": [
      "  0.000067 seconds (1 allocation: 16 bytes)\n",
      "  0.000052 seconds (1 allocation: 16 bytes)\n",
      "  0.000021 seconds (1 allocation: 16 bytes)\n",
      "  0.000051 seconds (1 allocation: 16 bytes)\n",
      "  0.000012 seconds (1 allocation: 16 bytes)\n"
     ]
    }
   ],
   "source": [
    "# For loop in Julia is pretty fast!\n",
    "arr1 = randn(10^4);\n",
    "@time mysum1(arr1)\n",
    "@time mysum2(arr1)\n",
    "@time mysum3(arr1)\n",
    "@time mysum4(arr1)\n",
    "@time sum(arr1);\n"
   ]
  },
  {
   "cell_type": "markdown",
   "id": "b7156d0c",
   "metadata": {},
   "source": [
    "# Exercise 1: Two sum\n",
    "Given an sorted integer array $arr$ and a target $t$, return the number of pairs $(i,j)$ such that $arr[i]+arr[j]=t$. You may assume that all elements in $arr$ are different with each other."
   ]
  },
  {
   "cell_type": "code",
   "execution_count": 174,
   "id": "31a8cf75",
   "metadata": {},
   "outputs": [
    {
     "data": {
      "text/plain": [
       "3"
      ]
     },
     "execution_count": 174,
     "metadata": {},
     "output_type": "execute_result"
    }
   ],
   "source": [
    "\n",
    "function twosum(arr, t)\n",
    "    n = size(arr)[1]\n",
    "    l, r, s = 1, n, 0\n",
    "    while r>l\n",
    "        if arr[l]+arr[r]==t\n",
    "            s+=1; l+=1; r-=1\n",
    "        elseif arr[l]+arr[r]<t\n",
    "            r-=1\n",
    "        else\n",
    "            l+=1\n",
    "        end\n",
    "    end\n",
    "    return s\n",
    "end\n"
   ]
  },
  {
   "cell_type": "markdown",
   "id": "7d45ac6e",
   "metadata": {},
   "source": [
    "# String"
   ]
  },
  {
   "cell_type": "code",
   "execution_count": 350,
   "id": "988b5e6d",
   "metadata": {},
   "outputs": [
    {
     "name": "stdout",
     "output_type": "stream",
     "text": [
      "a = ORCIAP class\n",
      "b = ORC, IAP class\n",
      "c = 2:4\n",
      "d = 7\n",
      "e = true\n",
      "f = 234\n",
      "g = 234\n",
      "h = aaaaaaaaaa\n",
      "i = abc,d1234.5\n",
      "j = SubString{String}[\"a\", \"b\", \"c\"]\n",
      "k = SubString{String}[\"1\", \"2\", \"3\", \"4\", \"5\"]\n",
      "l = [\"128845\", \"128345\"]\n"
     ]
    }
   ],
   "source": [
    "s1 = \"ORC\"; s2 = \"IAP class\"\n",
    "a = s1*s2; println(\"a = \", a) # concatenation\n",
    "b = string(s1, \", \", s2); println(\"b = \", b) # concatenation\n",
    "c = findfirst(\"bcd\", \"abcde\"); println(\"c = \", c) # similar: findlast()\n",
    "d = findnext('o', \"xylophone\", 5); println(\"d = \", d) # similar: findprev()\n",
    "e = occursin(\"yl\", \"Xylophon\"); println(\"e = \", e)\n",
    "f = parse(Int64, \"234\"); println(\"f = \", f) # convert string to number\n",
    "g = string(234); println(\"g = \", g) # convert number to string\n",
    "h = repeat(\"a\", 10); println(\"h = \", h) # duplicate\n",
    "i = join([\"a\", \"b\", \"c\", \",\", \"d\", 123, 4.5]); println(\"i = \", i) # join\n",
    "j = split(\"a,b,c\", \",\"); println(\"j = \", j) # split\n",
    "k = split(\"12345\",\"\"); println(\"k = \", k) # convert string to array\n",
    "l = [replace(\"123345\", \"3\"=>\"8\"), replace(\"123345\", \"3\"=>\"8\", count=1)]; println(\"l = \", l)"
   ]
  },
  {
   "cell_type": "markdown",
   "id": "cc1ead5b",
   "metadata": {},
   "source": [
    "# Math & logic"
   ]
  },
  {
   "cell_type": "code",
   "execution_count": 320,
   "id": "f057a2f4",
   "metadata": {},
   "outputs": [
    {
     "name": "stdout",
     "output_type": "stream",
     "text": [
      "a = 3\n",
      "b = 30\n",
      "c = 123//4\n",
      "d = 123.0\n",
      "e = [5.0, 4.6]\n",
      "f = -Inf\n",
      "g = NaN\n",
      "h = true\n",
      "i = true\n",
      "j = [0.6931471805599453, 1.0, 0.3010299956639812, 1.4142135623730951, 7.38905609893065, -1.0, 0.9092974268256817, 0.5235987755982989]\n"
     ]
    }
   ],
   "source": [
    "a = 123%4; println(\"a = \", a) # residual\n",
    "b = div(123, 4); println(\"b = \", b) # truncated division; quotient rounded towards zero\n",
    "c = 123//4; println(\"c = \", c) # rational number\n",
    "d = Float64(123); println(\"d = \", d) # type conversion\n",
    "e = [round(4.56), round(4.56, digits=1)]; println(\"e = \", e) # similar: ceil(), floor()\n",
    "f = Inf * -5; println(\"f = \", f) # Infinity\n",
    "g = NaN + Inf; println(\"g = \", g) # nan\n",
    "h = (1<=2) && (9>8); println(\"h = \", h) # logic and\n",
    "i = (1<=2) || (9<8); println(\"i = \", i) # logic or\n",
    "j = [log(2), log2(2), log10(2), sqrt(2), exp(2), sign(-5), sin(2), asin(0.5)]; println(\"j = \", j)"
   ]
  },
  {
   "cell_type": "markdown",
   "id": "1ae84a47",
   "metadata": {},
   "source": [
    "# Dictionary (hash map)"
   ]
  },
  {
   "cell_type": "code",
   "execution_count": 317,
   "id": "35f07cc2",
   "metadata": {},
   "outputs": [
    {
     "name": "stdout",
     "output_type": "stream",
     "text": [
      "Empty Dictionary = Dict{Any, Any}()\n",
      "Untyped Dictionary = Dict{String, Any}(\"c\" => \"hello\", \"b\" => 2, \"a\" => 1)\n",
      "Typed Dictionary = Dict{String, Int8}(\"c\" => 20, \"a\" => 10)\n",
      "Dict4 = Dict(\"B\" => 6, \"A\" => 5, \"C\" => 7)\n",
      "get values: 1\n",
      "get values: no such key\n",
      "print keys: \n",
      "c\n",
      "b\n",
      "a\n",
      "print values: \n",
      "hello\n",
      "2\n",
      "1\n",
      "print key-value pairs: \n",
      "c=>hello\n",
      "b=>2\n",
      "a=>1\n",
      "Add a new key:\n",
      "Dict{String, Any}(\"c\" => \"hello\", \"b\" => 2, \"a\" => 1, \"d\" => \"good\")\n",
      "Delete a key:\n",
      "Dict{String, Any}(\"c\" => \"hello\", \"b\" => 2, \"a\" => 1)\n"
     ]
    }
   ],
   "source": [
    "# Create dictionary\n",
    "Dict1 = Dict(); println(\"Empty Dictionary = \", Dict1)\n",
    "Dict2 = Dict(\"a\" => 1, \"b\" => 2, \"c\" => \"hello\"); println(\"Untyped Dictionary = \", Dict2)\n",
    "Dict3 = Dict{String, Int8}(\"a\" => 10, \"c\" => 20); println(\"Typed Dictionary = \", Dict3)\n",
    "Dict4 = Dict([\"A\", \"B\", \"C\"] .=> [5,6,7]); println(\"Dict4 = \", Dict4)\n",
    "\n",
    "println(\"get values: \", Dict2[\"a\"])\n",
    "println(\"get values: \", get(Dict2, \"d\", \"no such key\"))\n",
    "\n",
    "println(\"print keys: \")\n",
    "for i in keys(Dict2) \n",
    "    println(i) \n",
    "end\n",
    "\n",
    "println(\"print values: \")\n",
    "for v in values(Dict2) \n",
    "    println(v) \n",
    "end\n",
    "\n",
    "println(\"print key-value pairs: \")\n",
    "for (k,v) in Dict2\n",
    "    println(k, \"=>\", v) \n",
    "end\n",
    "\n",
    "println(\"Add a new key:\")\n",
    "Dict2[\"d\"] = \"good\"; println(Dict2)\n",
    "\n",
    "println(\"Delete a key:\")\n",
    "delete!(Dict2, \"d\"); println(Dict2)"
   ]
  },
  {
   "cell_type": "markdown",
   "id": "645a09b7",
   "metadata": {},
   "source": [
    "# Random numbers"
   ]
  },
  {
   "cell_type": "code",
   "execution_count": 356,
   "id": "fa9510e5",
   "metadata": {},
   "outputs": [
    {
     "name": "stdout",
     "output_type": "stream",
     "text": [
      "a = [0.5142608579591283, 0.7836918551121808, 0.5253260048512097]\n",
      "b = [-0.8720211932146646 0.015378853856341057; -0.8784516724665397 -0.28550573660442063]\n",
      "c = [2, 1, 4, 5, 3]\n",
      "d = [0.09927547941973285; 0.9378023719817329; 0.5389618106352748;;]\n",
      "e = [2, 3]\n",
      "f = [9, 1, 10, 7, 4, 6, 5, 8, 2, 3]\n"
     ]
    }
   ],
   "source": [
    "using Random\n",
    "Random.seed!(34)\n",
    "a = rand(3); println(\"a = \", a) # uniform[0,1]\n",
    "b = randn(2,2); println(\"b = \", b) # N(0,1)\n",
    "c = shuffle([1,2,3,4,5]); println(\"c = \", c) # random shuffle\n",
    "d = randexp(3,1); println(\"d = \", d) # expomential(1)\n",
    "e = randsubseq([1,2,3,4,5], 0.6); println(\"e = \", e) # random subset, each element selected with prob=0.6\n",
    "f = randperm(10); println(\"f = \", f) # same as shuffle([1,2,...,10])"
   ]
  },
  {
   "cell_type": "markdown",
   "id": "bbe30337",
   "metadata": {},
   "source": [
    "# Dot operator\n",
    "The dot operator \".\" is used to apply a function to all elements of an array. \n",
    "Similar to \"map\" in python."
   ]
  },
  {
   "cell_type": "code",
   "execution_count": 322,
   "id": "1e0293ea",
   "metadata": {},
   "outputs": [
    {
     "name": "stdout",
     "output_type": "stream",
     "text": [
      "[4, 14, 36]"
     ]
    }
   ],
   "source": [
    "function myfunc(a)\n",
    "    return a^3 + 3*a\n",
    "end\n",
    "print(myfunc.([1,2,3]))"
   ]
  }
 ],
 "metadata": {
  "kernelspec": {
   "display_name": "Julia 1.8.5",
   "language": "julia",
   "name": "julia-1.8"
  },
  "language_info": {
   "file_extension": ".jl",
   "mimetype": "application/julia",
   "name": "julia",
   "version": "1.8.5"
  }
 },
 "nbformat": 4,
 "nbformat_minor": 5
}
